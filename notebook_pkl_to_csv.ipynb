{
 "cells": [
  {
   "cell_type": "code",
   "execution_count": 5,
   "id": "54309df6-b1fa-4007-948e-f14c4c536078",
   "metadata": {},
   "outputs": [],
   "source": [
    "import os\n",
    "import pickle\n",
    "from pathlib import Path\n",
    "\n",
    "import pandas as pd"
   ]
  },
  {
   "cell_type": "code",
   "execution_count": 6,
   "id": "f00119e7-4e71-4562-a05d-fe8bc291907d",
   "metadata": {},
   "outputs": [],
   "source": [
    "root_dir = Path('PIPAL(processed)')\n",
    "label_dir = {'train': 'Train_Label', 'val': 'Val_Label', 'test': 'Test_Label'}\n",
    "pred_score = 'DISTS-PIPAL_pred_scores'"
   ]
  },
  {
   "cell_type": "code",
   "execution_count": 7,
   "id": "e9dc6811-4f38-4ee0-9c16-c29086d1eca1",
   "metadata": {},
   "outputs": [],
   "source": [
    "def get_df(dataset_type):\n",
    "    tmp_df = []\n",
    "    for filename in (root_dir / label_dir[dataset_type]).glob('*.txt'):\n",
    "        df = pd.read_csv(filename, index_col=None, header=None, names=['dist_img', 'score'])\n",
    "        tmp_df.append(df)\n",
    "\n",
    "    df = pd.concat(tmp_df, axis=0, ignore_index=True)\n",
    "    df['dist_img'] = df['dist_img'].apply(lambda x: x[:-4])\n",
    "    df = df.sort_values('dist_img')\n",
    "    df.rename(columns={'score': 'gt_score'}, inplace=True)\n",
    "    df['dataset_type'] = dataset_type\n",
    "    df.reset_index(inplace=True, drop=True)\n",
    "\n",
    "    return df"
   ]
  },
  {
   "cell_type": "code",
   "execution_count": 8,
   "id": "4f4ac999",
   "metadata": {},
   "outputs": [],
   "source": [
    "with open(os.path.join('scores_record/PIPAL', pred_score + '.pickle'), 'rb') as f:\n",
    "    scores_record = pickle.load(f)\n",
    "\n",
    "dfs = []\n",
    "for dataset_type in label_dir.keys():\n",
    "    tmp_df = get_df(dataset_type)\n",
    "    tmp_df['pred_score'] = scores_record[dataset_type]\n",
    "    # if pred_score != 'DISTS-Tune_pred_scores':\n",
    "    #     tmp_df['pred_score'] = 1 - tmp_df['pred_score']\n",
    "    dfs.append(tmp_df)\n",
    "df = pd.concat(dfs, axis=0, ignore_index=True)\n",
    "df.sort_values('dist_img', inplace=True)\n",
    "df.reset_index(inplace=True, drop=True)\n",
    "df = df[['dist_img', 'dataset_type', 'gt_score', 'pred_score']]\n",
    "\n",
    "df.to_csv(os.path.join('scores_record/PIPAL', pred_score + '.csv'), index=False)"
   ]
  }
 ],
 "metadata": {
  "kernelspec": {
   "display_name": "Python 3.10.4 ('iqa')",
   "language": "python",
   "name": "python3"
  },
  "language_info": {
   "codemirror_mode": {
    "name": "ipython",
    "version": 3
   },
   "file_extension": ".py",
   "mimetype": "text/x-python",
   "name": "python",
   "nbconvert_exporter": "python",
   "pygments_lexer": "ipython3",
   "version": "3.10.4"
  },
  "vscode": {
   "interpreter": {
    "hash": "e859600859a20cba716a0bd7e9aa70524cdd2898e73a801d70fa06ce368b99f0"
   }
  }
 },
 "nbformat": 4,
 "nbformat_minor": 5
}
